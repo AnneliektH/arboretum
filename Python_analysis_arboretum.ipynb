{
 "cells": [
  {
   "cell_type": "markdown",
   "id": "d28dc3bb",
   "metadata": {},
   "source": [
    "## Notebook for making figures made with Python in 'RNA viral communities are structured by host plant phylogeny in oak and conifer leaves'\n",
    "Anneliek ter Horst\n",
    "\n",
    "- Viral abundance with dendrogram\n",
    "- Number of viral contigs vs clean sequencing reads"
   ]
  },
  {
   "cell_type": "code",
   "execution_count": 2,
   "id": "0e353b31",
   "metadata": {},
   "outputs": [],
   "source": [
    "# import \n",
    "import pandas as pd\n",
    "import numpy as np\n",
    "import seaborn as sns; sns.set()\n",
    "from numpy import inf\n",
    "import math\n",
    "from scipy.stats import ranksums\n",
    "import scipy.spatial as sp, scipy.cluster.hierarchy as hc\n",
    "import matplotlib.pylab as plt\n",
    "import re"
   ]
  },
  {
   "cell_type": "code",
   "execution_count": null,
   "id": "2573a12d",
   "metadata": {},
   "outputs": [],
   "source": [
    "# Viral abundance with dendrogram\n",
    "# read table with presence-absence data\n",
    "abundance_df = pd.read_csv('210615_coverM_0_1.csv')\n",
    "\n",
    "# Replace nan with 0\n",
    "abundance_df = abundance_df.fillna(0)\n",
    "\n",
    "# Set contig as index instead of numbers\n",
    "abundance_df = abundance_df.set_index('Contig')\n",
    "\n",
    "# set figure params\n",
    "sns.set(font_scale=1.5) \n",
    "\n",
    "# transpose df\n",
    "df = abundance_df.transpose()\n",
    "\n",
    "# Draw the full plot\n",
    "# Compute pairwise correlation of columns, with df.corr()\n",
    "g = sns.clustermap(abundance_df.corr(), cmap=\"YlGnBu\", center=0,\n",
    "                   dendrogram_ratio=(.2, .1),\n",
    "                   cbar_pos=(.02, .32, .03, .2),\n",
    "                   linewidths=.75, figsize=(12, 13), xticklabels=False)\n",
    "\n",
    "for a in g.ax_row_dendrogram.collections:\n",
    "    a.set_linewidth(1)\n",
    "\n",
    "for a in g.ax_col_dendrogram.collections:\n",
    "    a.set_linewidth(1)\n",
    "    \n",
    "# save fig\n",
    "g.savefig('viral_abundance_heatmap_trees_noQd.pdf')\n",
    "\n"
   ]
  },
  {
   "cell_type": "code",
   "execution_count": null,
   "id": "d23061de",
   "metadata": {},
   "outputs": [],
   "source": []
  },
  {
   "cell_type": "code",
   "execution_count": null,
   "id": "baf435ec",
   "metadata": {},
   "outputs": [],
   "source": [
    "# Number of viral contigs vs clean sequencing reads\n",
    "# open the coverage table\n",
    "df = pd.read_csv('viral_mapping_abundance.csv',sep=',')\n",
    "df.head()\n",
    "\n",
    "# Make the numbers smaller, (so that we can put 1e5 in the label)\n",
    "df['num_reads'] = df['absolute_num_reads']/100000\n",
    "\n",
    "# Sort by total number of reads\n",
    "df = df.sort_values(by=['absolute_num_reads'])\n",
    "\n",
    "# Barchart, stacked for num viral reads over all reads and number of vOTUs recovered\n",
    "HE = 0.9\n",
    "lefts=0\n",
    "\n",
    "f = plt.figure()\n",
    "# plot the bars \n",
    "\n",
    "# Plot number of reads per sample\n",
    "plt.barh(df.sci_name_short, df.num_reads, align='center', color = '#bdbdbd') \n",
    "\n",
    "\n",
    "# Plot number of recovered viral contigs per samples the other way\n",
    "plt.barh(df.sci_name_short, -df.num_vir_rec, align='center', color = '#525252') \n",
    "\n",
    "# Set x and y axes names\n",
    "plt.ylabel(\"Tree species\") \n",
    "plt.xlabel(\"Number of viral species per host | number of clean sequencing reads 1e5\") \n",
    "\n",
    "\n",
    "plt.show()\n",
    "\n",
    "# Save the figure\n",
    "f.savefig(\"foo.pdf\", bbox_inches='tight')"
   ]
  }
 ],
 "metadata": {
  "kernelspec": {
   "display_name": "Python 3",
   "language": "python",
   "name": "python3"
  },
  "language_info": {
   "codemirror_mode": {
    "name": "ipython",
    "version": 3
   },
   "file_extension": ".py",
   "mimetype": "text/x-python",
   "name": "python",
   "nbconvert_exporter": "python",
   "pygments_lexer": "ipython3",
   "version": "3.8.5"
  }
 },
 "nbformat": 4,
 "nbformat_minor": 5
}
