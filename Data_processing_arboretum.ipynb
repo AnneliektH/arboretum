{
 "cells": [
  {
   "cell_type": "markdown",
   "id": "7116c60e",
   "metadata": {},
   "source": [
    "## Notebook for processing data as described in ' paper name '\n",
    "Anneliek ter Horst\n",
    "\n",
    "\n"
   ]
  },
  {
   "cell_type": "markdown",
   "id": "5a35781d",
   "metadata": {},
   "source": [
    "## QC reads with trimmomatic\n",
    "Trim the reads with trimmomatic, following Roux et al., 2017\n",
    "minimum base quality threshold of 30 evaluated on sliding windows of 4 bases, and minimum read length of 50\n",
    "As a rule of thumb newer libraries will use TruSeq3, but this really depends on your service provider.\n",
    "http://www.usadellab.org/cms/?page=trimmomatic"
   ]
  },
  {
   "cell_type": "code",
   "execution_count": null,
   "id": "9c6d7e5b",
   "metadata": {},
   "outputs": [],
   "source": [
    "# loading modules\n",
    "module load java\n",
    "module load trimmomatic\n",
    "\n",
    "# use trimmomatic to trim adapters, make sure you have the correct adapterfile\n",
    "trimmomatic PE -threads 8 -phred33 $1 ${1%%_1*}_2.fastq.gz \\\n",
    "../trimmed/${1%%_1*}_1_trimmed.fq.gz unpaired/${1%%_1*}_1_Unpaired.fq.gz \\\n",
    "../trimmed/${1%%_1*}_2_trimmed.fq.gz unpaired/${1%%_1*}_2_Unpaired.fq.gz \\\n",
    "ILLUMINACLIP:/adapters/TruSeq3-PE.fa:2:30:10 \\\n",
    "SLIDINGWINDOW:4:30 MINLEN:50"
   ]
  },
  {
   "cell_type": "markdown",
   "id": "69ddf188",
   "metadata": {},
   "source": [
    "## Remove PhiX174 with bbduk\n",
    "Phix174 is a phage sequence that is used to aid in sequencing. This needs to be removed from our sequencing data\n",
    "https://jgi.doe.gov/data-and-tools/bbtools/bb-tools-user-guide/bbduk-guide/"
   ]
  },
  {
   "cell_type": "code",
   "execution_count": null,
   "id": "38271890",
   "metadata": {},
   "outputs": [],
   "source": [
    "# load module\n",
    "module load java\n",
    "module load bbmap\n",
    "\n",
    "# use bbduk to remove phix contamination\n",
    "bbduk.sh in1=$1 in2=${1%%_1*}_2_trimmed.fq.gz \\\n",
    "out1=../remove_phix/${1%%_1*}_1_trimmed_bbduk.fq.gz out2=../remove_phix/${1%%_1*}_2_trimmed_bbduk.fq.gz \\\n",
    "ref=/bbduk/phix_genome.fa k=31 \\\n",
    "hdist=1 stats=../remove_phix/${1%%}_stats.txt"
   ]
  },
  {
   "cell_type": "markdown",
   "id": "ca435479",
   "metadata": {},
   "source": [
    "## Assembly with MEGAHIT\n",
    "Assemble clean reads using Megahit. \n",
    "Use standard settings, which menas the minimum length of a contig will be 200 bp\n",
    "https://github.com/voutcn/megahit"
   ]
  },
  {
   "cell_type": "code",
   "execution_count": null,
   "id": "ba9062b1",
   "metadata": {},
   "outputs": [],
   "source": [
    "# loading modules\n",
    "module load megahit\n",
    "\n",
    "# Run megahit using standard settings\n",
    "megahit -1 $1 -2 ${1%%1_R1*}1_R2_trimmed_bbduk.fq.gz \\\n",
    "-r ../unpaired/${1%%1_R1*}_R1_unpaired.fq.gz,../unpaired/${1%%1_R1*}_R2_unpaired.fq.gz \\\n",
    "-o ../assemblies_persample/${1} \\\n",
    "--out-prefix ${1}\n"
   ]
  },
  {
   "cell_type": "markdown",
   "id": "c2fd8bf9",
   "metadata": {},
   "source": [
    "# Search for RdRp sequences in assemblies data\n",
    "\n",
    "- Following Starr et al., 2019\n",
    "- Use PFAM numbers Mononeg_RNA_pol [PF00946], RdRP_5 [PF07925], Flavi_NS5 [PF00972], Bunya_RdRp [PF04196], Mitovir_RNA_pol [PF05919], RdRP_1 [PF00680], RdRP_2 [PF00978], RdRP_3 [PF00998], RdRP_4 [PF02123], Viral_RdRp_C [PF17501], and Birna_RdRp [PF04197]. \n",
    "- Download Seeds of the HMM alignments and use hmmer to make HMM profiles for each\n",
    "- Predict proteins with Prodigal on assemblies\n",
    "- Use Hmmer to search predicted genes for RdRps\n",
    "\n"
   ]
  },
  {
   "cell_type": "code",
   "execution_count": null,
   "id": "f8e05d90",
   "metadata": {},
   "outputs": [],
   "source": [
    "# First rename the assemblies so results are easier to look at\n",
    "\n",
    "# Using bbmap\n",
    "module load bbmap\n",
    "\n",
    "# rename all contigs in each fasta file after the fasta file\n",
    "for f in *.fa\n",
    "do \n",
    "echo $f\n",
    "rename.sh in=$f out=${f%%.fa*}_renamed.fa prefix=${f%%.contigs.fa*}\n",
    "done \n",
    "\n"
   ]
  },
  {
   "cell_type": "markdown",
   "id": "0fea0f98",
   "metadata": {},
   "source": [
    "## PFAM numbers for RdRps\n",
    "\n",
    "- Read more about RdRps here: http://pfam.xfam.org/family/PF00680\n",
    "- Download the alignment in selex format from the PFAM website\n",
    "- Do not use PFAMs for RVT_1 and RVT_2, because retrotransposons have those too."
   ]
  },
  {
   "cell_type": "code",
   "execution_count": null,
   "id": "2e184801",
   "metadata": {},
   "outputs": [],
   "source": [
    "# build Hmm profiles from the selex files\n",
    "# load module\n",
    "module load hmmer\n",
    "\n",
    "# loop through selex files\n",
    "for f in *.txt\n",
    "do\n",
    "# Use hmmbuild to make hmm profile for each RdRp\n",
    "hmmbuild ${f%%_seed*}.hmm $f\n",
    "done \n",
    "\n",
    "# Concatenate all hmmprofiles so we only have to do one search\n",
    "cat *.hmm >> all_RdRp.hmm"
   ]
  },
  {
   "cell_type": "markdown",
   "id": "66ebef45",
   "metadata": {},
   "source": [
    "## Prodigal for gene predictions\n",
    "\n",
    "- USe the anonymous mode (or meta mode, is the same)\n",
    "- Read about why meta mode: https://www.biocode.ltd/catalog-tooldata/prodigal\n",
    "- Do HMM search on these predictions\n",
    "- Cluster the found predicted RdRp protein sequences using USEARCH\n",
    "\n"
   ]
  },
  {
   "cell_type": "code",
   "execution_count": null,
   "id": "eb38bed3",
   "metadata": {},
   "outputs": [],
   "source": [
    "# Load modules\n",
    "module load prodigal\n",
    "module load hmmer\n",
    "\n",
    "# Loop through fasta files (contigs)\n",
    "for f in *.fa\n",
    "do\n",
    "\n",
    "# predict genes with prodigal for each file\n",
    "prodigal -i $f -a ../prodigal/${f%%.contigs.fa*}_proteins.faa -p meta -q\n",
    "done\n",
    "\n",
    "# Do an HMM search on these prodigal gene predictions\n",
    "# Loop through the gene prediction files (proteins)\n",
    "for f in *.faa\n",
    "do\n",
    "echo $f\n",
    "# Use Hmmsearch to look for RdRp sequences\n",
    "hmmsearch -E 0.00001 -o ../hmm_search/out/${f%%_proteins.faa*}.out \\\n",
    "--tblout ../hmm_search/${f%%_proteins.faa*}_tabular_eval.out  \\\n",
    "../hmms/all_RdRp.hmm $f \n",
    "done\n",
    "\n",
    "# Cluster RdRp sequences with USEARCH\n",
    "../../programs/usearch -cluster_fast \\\n",
    "./prodigal/predicted_rdrp.faa -id 0.99 -centroids \\\n",
    "./prodigal/predicted_rdrp_clust.faa\n",
    "\n"
   ]
  },
  {
   "cell_type": "markdown",
   "id": "002efaba",
   "metadata": {},
   "source": [
    "## Run VIBRANT on all contigs \n",
    "- Changed VIBRANT source code so it will take contigs of 100 bp with one orf\n",
    "- changed /share/emersonlab/annie/miniconda3/envs/vibrant/bin/VIBRANT_run.py\n",
    "- Try on all contigs"
   ]
  },
  {
   "cell_type": "code",
   "execution_count": null,
   "id": "e2c2765e",
   "metadata": {},
   "outputs": [],
   "source": [
    "## Changed line 139 in VIBRANT_run.py as follows:\n",
    "if int(orf_low) < 1 or int(lim_low) < 100:\n",
    "        logging.info(\"VIBRANT error: minimum ORFs is 4 and minimum sequence length is 1kb. These variables can only increase. Exiting.\" + \"\\n\")\n",
    "        exit()\n",
    "    command = ' -f ' + str(format) + ' -d ' + str(databases) + ' -m ' + str(files) + ' -l ' + str(lim_low) + ' -o ' + str(orf_low) + str(virome)\n",
    "    subprocess.run(\"echo '' > \" + str(out_folder)+base + \"_four-orf-count.txt\", shell=True)\n"
   ]
  },
  {
   "cell_type": "code",
   "execution_count": null,
   "id": "70b13e29",
   "metadata": {},
   "outputs": [],
   "source": [
    "# Ran this adapted version of vibrant as follows:\n",
    "VIBRANT_run.py -i all_contigs.fa -folder vibrant -t 5 -l 100 -o 1"
   ]
  },
  {
   "cell_type": "markdown",
   "id": "0b522adf",
   "metadata": {},
   "source": [
    "## Take all contigs with predicted viral protein\n",
    "- VIBRANT output that it predicted to be viral\n",
    "- RdRP matches to proteins\n",
    "- Concatenate these files\n",
    "- remove duplicates\n",
    "- predict proteins\n",
    "- Run blastP to complete nr database\n",
    "- Run blastN to complete nt database\n",
    "\n",
    "\n",
    "## Use code in the 210120_concat_alloutputs notebook to concatenate:\n",
    "- Hmmr output\n",
    "- Vibrant output\n",
    "- BlastP output\n",
    "- BlastN output"
   ]
  },
  {
   "cell_type": "code",
   "execution_count": null,
   "id": "2fc92b9b",
   "metadata": {},
   "outputs": [],
   "source": [
    "# remove duplicate contigs using bbmap\n",
    "dedupe.sh in=210112_all_virallike_contigs.fa \\\n",
    "out=210112_all_virallike_contigs_dedup.fa ac=f requirematchingnames\n",
    "\n",
    "# predict proteins\n",
    "module load prodigal\n",
    "prodigal -i 210112_all_virallike_contigs_dedup.fa \\\n",
    "-a 210112_all_virallike_contigs_dedup.faa -p meta -q\n",
    "\n",
    "# remove spaces from protein fasta headers\n",
    "sed '/^>/ s/ .*//' 210112_all_virallike_contigs_dedup.faa >> 210112_all_virallike_contigs_dedup_nospaces.faa\n"
   ]
  },
  {
   "cell_type": "code",
   "execution_count": null,
   "id": "00874b14",
   "metadata": {},
   "outputs": [],
   "source": [
    "# Run BlastP \n",
    "blastp -db /share/genomes/ncbi/nr -query 210112_all_virallike_contigs_dedup_nospaces.faa \\\n",
    "-out ../blastp_out/210112_all_virallike_contigs_blastP.csv \\\n",
    "-outfmt 10 -max_target_seqs 5 -num_threads 15 \n",
    "\n",
    "# Run BlastN\n",
    "blastn -db /share/genomes/ncbi/nt -query 210112_all_virallike_contigs_dedup.fa \\\n",
    "-out ../210112_all_virallike_contigs_blastN.csv \\\n",
    "-outfmt 10 -max_target_seqs 5 -num_threads 15 "
   ]
  },
  {
   "cell_type": "markdown",
   "id": "6a6a20a8",
   "metadata": {},
   "source": [
    "## Dereplicate the contigs using dRep\n",
    "https://drep.readthedocs.io/en/latest/"
   ]
  },
  {
   "cell_type": "code",
   "execution_count": null,
   "id": "df7e19fa",
   "metadata": {},
   "outputs": [],
   "source": [
    "# dereplicate with dRep\n",
    "dRep dereplicate ./drep --S_algorithm ANImf -sa 0.95 -nc 0.85 -g ./contigs/*.fa -p 6 "
   ]
  },
  {
   "cell_type": "markdown",
   "id": "070364e4",
   "metadata": {},
   "source": [
    "## Map back the clean reads to contigs\n",
    "- Contigs were manually curated\n",
    "- Making sure that there were no retroviral elements in there, cause these are likely to be retrotransposons\n",
    "- Use Bowtie2 to map back\n",
    "- Use bbmap and samtools to index the bam files"
   ]
  },
  {
   "cell_type": "code",
   "execution_count": null,
   "id": "6a2e84cc",
   "metadata": {},
   "outputs": [],
   "source": [
    "#  make reference file with bowtie\n",
    "module load bowtie2\n",
    "bowtie2-build --threads 4 viral_like_contigs.fa viral_like_contigs\n",
    "\n",
    "# map back clean reads with bowtie\n",
    "module load bowtie2\n",
    "\n",
    "# For each read file do bowtie2, using sensitive preset\n",
    "for f in *_R1_*.fq.gz\n",
    "do\n",
    "bowtie2 --threads 3 \\\n",
    "-x viral_like_contigs \\\n",
    "-1 $f \\\n",
    "-2 ${f%%_R1_*}_R2_trimmed_bbduk.fq.gz \\\n",
    "-S  ${f%%_R1_*}.sam --no-unal --sensitive\n",
    "\n",
    "# index and convert sam to bam\n",
    "module load bbmap\n",
    "module load samtools\n",
    "\n",
    "for f in *.sam\n",
    "do echo $f\n",
    "samtools view -F 4 -bS $f | samtools sort > ${f%%.sam*}_sortedIndexed.bam\n",
    "done\n",
    "\n",
    "for f in *.bam ; do samtools index $f ; done;"
   ]
  },
  {
   "cell_type": "markdown",
   "id": "c57607ed",
   "metadata": {},
   "source": [
    "## Use coverM to make a coverage table\n",
    "- Creates abundance tables\n",
    "- https://github.com/wwood/CoverM\n",
    "- Using 75% coverage "
   ]
  },
  {
   "cell_type": "code",
   "execution_count": null,
   "id": "9e11bb9e",
   "metadata": {},
   "outputs": [],
   "source": [
    "# Run CoverM\n",
    "coverm contig -m mean --min-covered-fraction 0.75 -b *.bam > coverage_table_arboretum_75_mean.csv\n",
    "coverm contig -m count --min-covered-fraction 0.75 -b *.bam > coverage_table_arboretum_75_count.csv\n"
   ]
  },
  {
   "cell_type": "markdown",
   "id": "4f33fe91",
   "metadata": {},
   "source": [
    "## Make phylogenetic trees of the RdRp sequences\n",
    "- Dereplicate RdRp protein sequences using CDhit\n",
    "- Phylogenetic alignments using Mafft\n",
    "- remove spurious seqs using trimal\n",
    "- infer phylogenetic trees using FastTree"
   ]
  },
  {
   "cell_type": "code",
   "execution_count": null,
   "id": "80a872ec",
   "metadata": {},
   "outputs": [],
   "source": [
    "# remove the spaces from own RdRp sequences\n",
    "sed '/^>/ s/ .*//' clustered_predict_rdrp.faa >> \\\n",
    "210329_clustered_predict_rdrp_nospace.faa\n",
    "\n",
    "# remove predicted RdRp sequences shorter than 60 AA, cause they will interfere with alignment\n",
    "# Manually, removed 7 seqs\n",
    "\n",
    "# cluster the RdRps from refseq with USEARCH\n",
    "# 99% AAI (Starr et al., 2019), 631 clusters\n",
    "../../programs/usearch -cluster_fast 210329_RdRp_refseq_mancur.faa \\\n",
    "-id 0.99 -centroids 210329_RdRp_refseq_clust.fasta \n",
    "\n",
    "\n",
    "# align with MAFFT (Shi2016)\n",
    "# first make file with all RdRps\n",
    "cat 210329_clustered_predict_rdrp_nospace.faa 210329_RdRp_refseq_clust.fasta >> 210329_rdrp_own_refseq.faa\n",
    "\n",
    "# Use auto setting, leave gappyregions\n",
    "module load mafft\n",
    "mafft --thread 5 \\\n",
    "--adjustdirection \\\n",
    "--auto \\\n",
    "--reorder \\\n",
    "210329_rdrp_own_refseq.faa > 210329_rdrp_own_refseq_mafftauto.faa\n",
    "\n",
    "# Use trimal to remove spurious sequences\n",
    "trimal -in 210329_rdrp_own_refseq_mafftauto.faa -out 210329_rdrp_own_refseq_mafftauto_trimal.faa -gappyout\n",
    "\n",
    "# Use FastTree to make phylogenetic trees\n",
    "FastTreeMP < 210329_rdrp_own_refseq_mafftauto_trimal.faa > fasttree_tree.nwk \\\n",
    "-wag -log 210516_fasttree.log "
   ]
  },
  {
   "cell_type": "code",
   "execution_count": null,
   "id": "b582cb4e",
   "metadata": {},
   "outputs": [],
   "source": []
  }
 ],
 "metadata": {
  "kernelspec": {
   "display_name": "Python 3",
   "language": "python",
   "name": "python3"
  },
  "language_info": {
   "codemirror_mode": {
    "name": "ipython",
    "version": 3
   },
   "file_extension": ".py",
   "mimetype": "text/x-python",
   "name": "python",
   "nbconvert_exporter": "python",
   "pygments_lexer": "ipython3",
   "version": "3.8.5"
  }
 },
 "nbformat": 4,
 "nbformat_minor": 5
}
