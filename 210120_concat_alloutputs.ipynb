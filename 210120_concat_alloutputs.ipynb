{
 "cells": [
  {
   "cell_type": "markdown",
   "metadata": {},
   "source": [
    "# Merge all the dfs that were made\n",
    "- So all the checks we did to see if a contig/protien was viral\n",
    "- RdRp hmm matches\n",
    "- Vibrant output\n",
    "- Vibrant text search output\n",
    "- BlastP output\n",
    "- BlastN output (only one per contig)"
   ]
  },
  {
   "cell_type": "code",
   "execution_count": 3,
   "metadata": {},
   "outputs": [],
   "source": [
    "# imports\n",
    "import pandas as pd\n",
    "import numpy as np"
   ]
  },
  {
   "cell_type": "code",
   "execution_count": 1,
   "metadata": {},
   "outputs": [],
   "source": [
    "# open the RdRp search results\n",
    "df_rdrp =  open_df('201228_RdRp_hits_eval_adapt.csv', ',')\n",
    "\n",
    "# open vibrant results\n",
    "df_vibrant = open_df('VIBRANT_annotations_all_contigs.txt','\\t')\n",
    "\n",
    "# open vibrant text search\n",
    "df_vibrant_text = open_df('210119_viral_proteins_found_vibrant.csv', ',')\n",
    "\n",
    "# open blastp\n",
    "df_blastp = open_df('210120_blastp_output_w_desc_selectedviral.csv', ',')\n",
    "\n",
    "# open blastn\n",
    "df_blastn= open_df('210119_blastn_output_w_desc.csv', ',')"
   ]
  },
  {
   "cell_type": "code",
   "execution_count": 101,
   "metadata": {},
   "outputs": [
    {
     "data": {
      "text/html": [
       "<div>\n",
       "<style scoped>\n",
       "    .dataframe tbody tr th:only-of-type {\n",
       "        vertical-align: middle;\n",
       "    }\n",
       "\n",
       "    .dataframe tbody tr th {\n",
       "        vertical-align: top;\n",
       "    }\n",
       "\n",
       "    .dataframe thead th {\n",
       "        text-align: right;\n",
       "    }\n",
       "</style>\n",
       "<table border=\"1\" class=\"dataframe\">\n",
       "  <thead>\n",
       "    <tr style=\"text-align: right;\">\n",
       "      <th></th>\n",
       "      <th>rdrp_name</th>\n",
       "      <th>pfam_num</th>\n",
       "    </tr>\n",
       "  </thead>\n",
       "  <tbody>\n",
       "    <tr>\n",
       "      <th>0</th>\n",
       "      <td>PF00946</td>\n",
       "      <td>Mononeg_RNA_pol</td>\n",
       "    </tr>\n",
       "    <tr>\n",
       "      <th>1</th>\n",
       "      <td>PF07925</td>\n",
       "      <td>RdRP_5</td>\n",
       "    </tr>\n",
       "    <tr>\n",
       "      <th>2</th>\n",
       "      <td>PF00972</td>\n",
       "      <td>Flavi_NS5</td>\n",
       "    </tr>\n",
       "    <tr>\n",
       "      <th>3</th>\n",
       "      <td>PF04196</td>\n",
       "      <td>Bunya_RdRp</td>\n",
       "    </tr>\n",
       "    <tr>\n",
       "      <th>4</th>\n",
       "      <td>PF05919</td>\n",
       "      <td>Mitovir_RNA_pol</td>\n",
       "    </tr>\n",
       "  </tbody>\n",
       "</table>\n",
       "</div>"
      ],
      "text/plain": [
       "  rdrp_name          pfam_num\n",
       "0   PF00946  Mononeg_RNA_pol \n",
       "1   PF07925           RdRP_5 \n",
       "2   PF00972        Flavi_NS5 \n",
       "3   PF04196       Bunya_RdRp \n",
       "4   PF05919  Mitovir_RNA_pol "
      ]
     },
     "metadata": {},
     "output_type": "display_data"
    },
    {
     "data": {
      "text/html": [
       "<div>\n",
       "<style scoped>\n",
       "    .dataframe tbody tr th:only-of-type {\n",
       "        vertical-align: middle;\n",
       "    }\n",
       "\n",
       "    .dataframe tbody tr th {\n",
       "        vertical-align: top;\n",
       "    }\n",
       "\n",
       "    .dataframe thead th {\n",
       "        text-align: right;\n",
       "    }\n",
       "</style>\n",
       "<table border=\"1\" class=\"dataframe\">\n",
       "  <thead>\n",
       "    <tr style=\"text-align: right;\">\n",
       "      <th></th>\n",
       "      <th>protein</th>\n",
       "      <th>hit</th>\n",
       "      <th>evalue_hmm_rdrp</th>\n",
       "      <th>score_hmm_rdrp</th>\n",
       "      <th>bias_hmm_rdrp</th>\n",
       "      <th>start_hmm_rdrp</th>\n",
       "      <th>stop_hmm_rdrp</th>\n",
       "      <th>contig</th>\n",
       "      <th>pfam_num</th>\n",
       "    </tr>\n",
       "  </thead>\n",
       "  <tbody>\n",
       "    <tr>\n",
       "      <th>0</th>\n",
       "      <td>Oak10_S14_1888_1</td>\n",
       "      <td>Mitovir_RNA_pol</td>\n",
       "      <td>4.300000e-23</td>\n",
       "      <td>81.6</td>\n",
       "      <td>0.0</td>\n",
       "      <td>74</td>\n",
       "      <td>373</td>\n",
       "      <td>Oak10_S14_1888</td>\n",
       "      <td>Mitovir_RNA_pol</td>\n",
       "    </tr>\n",
       "    <tr>\n",
       "      <th>1</th>\n",
       "      <td>Oak10_S14_4042_2</td>\n",
       "      <td>Mitovir_RNA_pol</td>\n",
       "      <td>3.900000e-10</td>\n",
       "      <td>38.9</td>\n",
       "      <td>0.2</td>\n",
       "      <td>588</td>\n",
       "      <td>815</td>\n",
       "      <td>Oak10_S14_4042</td>\n",
       "      <td>Mitovir_RNA_pol</td>\n",
       "    </tr>\n",
       "    <tr>\n",
       "      <th>2</th>\n",
       "      <td>Oak11_S15_14988_1</td>\n",
       "      <td>Mitovir_RNA_pol</td>\n",
       "      <td>1.000000e-15</td>\n",
       "      <td>57.7</td>\n",
       "      <td>0.0</td>\n",
       "      <td>3</td>\n",
       "      <td>416</td>\n",
       "      <td>Oak11_S15_14988</td>\n",
       "      <td>Mitovir_RNA_pol</td>\n",
       "    </tr>\n",
       "    <tr>\n",
       "      <th>3</th>\n",
       "      <td>Oak11_S15_2195_1</td>\n",
       "      <td>Mitovir_RNA_pol</td>\n",
       "      <td>4.800000e-75</td>\n",
       "      <td>253.5</td>\n",
       "      <td>0.0</td>\n",
       "      <td>68</td>\n",
       "      <td>2470</td>\n",
       "      <td>Oak11_S15_2195</td>\n",
       "      <td>Mitovir_RNA_pol</td>\n",
       "    </tr>\n",
       "    <tr>\n",
       "      <th>4</th>\n",
       "      <td>Oak12_S16_10149_1</td>\n",
       "      <td>Mitovir_RNA_pol</td>\n",
       "      <td>1.300000e-15</td>\n",
       "      <td>57.0</td>\n",
       "      <td>0.0</td>\n",
       "      <td>3</td>\n",
       "      <td>572</td>\n",
       "      <td>Oak12_S16_10149</td>\n",
       "      <td>Mitovir_RNA_pol</td>\n",
       "    </tr>\n",
       "  </tbody>\n",
       "</table>\n",
       "</div>"
      ],
      "text/plain": [
       "             protein              hit  evalue_hmm_rdrp  score_hmm_rdrp  \\\n",
       "0   Oak10_S14_1888_1  Mitovir_RNA_pol     4.300000e-23            81.6   \n",
       "1   Oak10_S14_4042_2  Mitovir_RNA_pol     3.900000e-10            38.9   \n",
       "2  Oak11_S15_14988_1  Mitovir_RNA_pol     1.000000e-15            57.7   \n",
       "3   Oak11_S15_2195_1  Mitovir_RNA_pol     4.800000e-75           253.5   \n",
       "4  Oak12_S16_10149_1  Mitovir_RNA_pol     1.300000e-15            57.0   \n",
       "\n",
       "   bias_hmm_rdrp  start_hmm_rdrp  stop_hmm_rdrp           contig  \\\n",
       "0            0.0              74            373   Oak10_S14_1888   \n",
       "1            0.2             588            815   Oak10_S14_4042   \n",
       "2            0.0               3            416  Oak11_S15_14988   \n",
       "3            0.0              68           2470   Oak11_S15_2195   \n",
       "4            0.0               3            572  Oak12_S16_10149   \n",
       "\n",
       "          pfam_num  \n",
       "0  Mitovir_RNA_pol  \n",
       "1  Mitovir_RNA_pol  \n",
       "2  Mitovir_RNA_pol  \n",
       "3  Mitovir_RNA_pol  \n",
       "4  Mitovir_RNA_pol  "
      ]
     },
     "execution_count": 101,
     "metadata": {},
     "output_type": "execute_result"
    }
   ],
   "source": [
    "# give df_rdrp a column with contig names\n",
    "df_rdrp['contig'] = df_rdrp.protein.str[:-2]\n",
    "\n",
    "# give an extra column where we remove seed from the pfam number\n",
    "df_rdrp['pfam_num'] = df_rdrp['hit'].str.replace('_seed','')\n",
    "\n",
    "#Open df with the PFAM name -number combinations\n",
    "df_pfam_names = open_df('rdrp_pfam_namenumber.csv', ',')\n",
    "\n",
    "# replace the PFAM numbers in this df with the RdRp names\n",
    "# write names and numbers to dict\n",
    "pfam_dict = df_pfam_names.set_index('rdrp_name')['pfam_num'].to_dict()\n",
    "\n",
    "# replace\n",
    "df_rdrp['pfam_num'] = df_rdrp['pfam_num'].apply(str).replace(pfam_dict, regex=False)\n",
    "\n",
    "# print head new df\n",
    "df_rdrp.head()"
   ]
  },
  {
   "cell_type": "code",
   "execution_count": 102,
   "metadata": {},
   "outputs": [],
   "source": [
    "# rename vibrant column to contig\n",
    "df_vibrant = df_vibrant.rename(columns={'scaffold': 'contig'})\n",
    "\n",
    "\n",
    "# same for blastn\n",
    "df_blastn = df_blastn.rename(columns={'qseqid': 'contig'})\n",
    "\n",
    "# same for blastp\n",
    "df_blastp = df_blastp.rename(columns={'qseqid': 'protein'})"
   ]
  },
  {
   "cell_type": "code",
   "execution_count": 112,
   "metadata": {},
   "outputs": [],
   "source": [
    "# concatenate all the protein outpyut into one file\n",
    "df_all_protein = df_rdrp.merge(df_vibrant,on='protein',how='outer').merge(df_vibrant_text,on='protein',how='outer').merge(df_blastp,on='protein',how='outer')\n",
    "\n",
    "# make a new column contig so that we can merge with blastN results\n",
    "df_all_protein['contig'] = df_all_protein.protein.str[:-2]\n",
    "\n",
    "# merge protein results with blastn\n",
    "df_all = df_all_protein.merge(df_blastn,on='contig',how='outer')\n",
    "\n",
    "# write to file\n",
    "df_all.to_csv('210120_all_resultsconcat.csv')"
   ]
  },
  {
   "cell_type": "code",
   "execution_count": 164,
   "metadata": {},
   "outputs": [
    {
     "data": {
      "text/plain": [
       "550"
      ]
     },
     "execution_count": 164,
     "metadata": {},
     "output_type": "execute_result"
    }
   ],
   "source": [
    "len(df_blastn_tocheck)"
   ]
  },
  {
   "cell_type": "code",
   "execution_count": 162,
   "metadata": {},
   "outputs": [],
   "source": [
    "df_blastn_tocheck = df_all[~df_all.description_blastn.str.contains(\"virus\", na=False) & ~df_all.description_blastp.str.contains(\"virus\", na=False)]\n",
    "\n",
    "# Write to file for manual check\n",
    "df_blastn_tocheck.to_csv('210120_stringent_check.csv')"
   ]
  },
  {
   "cell_type": "code",
   "execution_count": 157,
   "metadata": {},
   "outputs": [],
   "source": [
    "df_less_check = df_all[df_all.description_blastp.str.contains(\"virus\", na=False) | df_all.description_blastn.str.contains(\"virus\", na=False)]"
   ]
  },
  {
   "cell_type": "code",
   "execution_count": 163,
   "metadata": {},
   "outputs": [],
   "source": [
    "# Write to file for manual check\n",
    "df_less_check.to_csv('210120_less_check.csv')"
   ]
  },
  {
   "cell_type": "code",
   "execution_count": 1,
   "metadata": {},
   "outputs": [],
   "source": [
    "def open_df(df, sep):\n",
    "    # open the df\n",
    "    df = pd.read_csv(df, sep=sep)\n",
    "    # show top\n",
    "    display(df.head())\n",
    "    return df"
   ]
  },
  {
   "cell_type": "code",
   "execution_count": null,
   "metadata": {},
   "outputs": [],
   "source": []
  }
 ],
 "metadata": {
  "kernelspec": {
   "display_name": "Python 3",
   "language": "python",
   "name": "python3"
  },
  "language_info": {
   "codemirror_mode": {
    "name": "ipython",
    "version": 3
   },
   "file_extension": ".py",
   "mimetype": "text/x-python",
   "name": "python",
   "nbconvert_exporter": "python",
   "pygments_lexer": "ipython3",
   "version": "3.8.5"
  }
 },
 "nbformat": 4,
 "nbformat_minor": 2
}
